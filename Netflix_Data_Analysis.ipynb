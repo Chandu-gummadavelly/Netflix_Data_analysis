{
 "cells": [
  {
   "cell_type": "markdown",
   "id": "eeab9b4f-984c-4199-922c-f6c1a8c3acf8",
   "metadata": {},
   "source": [
    "# 🎬 Netflix Movie Data Analysis Project\n",
    "\n",
    "---\n",
    "\n",
    "## 👋 Introduction\n",
    "\n",
    "<table>\n",
    "  <tr>\n",
    "    <td>\n",
    "      <img src=\"chandu.jpg\" alt=\"Chandu's Photo\" width=\"140\"/>\n",
    "    </td>\n",
    "    <td>\n",
    "      <p style=\"font-size:16px\">\n",
    "        Hi, I'm <strong>Chandu Gummadelli</strong> 👋<br>\n",
    "        A passionate and curious <strong>Data Science enthusiast</strong> who loves solving problems using data!<br>\n",
    "        I’m currently exploring real-world projects involving Python, Pandas, and machine learning to grow as a data-driven problem solver.\n",
    "      </p>\n",
    "      <p>\n",
    "        🔗 <a href=\"www.linkedin.com/in/chandu-gummadavelly-524830330\" target=\"_blank\">LinkedIn</a> &nbsp; | &nbsp;\n",
    "        💻 <a href=\"https://github.com/Chandu-gummadavelly\" target=\"_blank\">GitHub</a>\n",
    "      </p>\n",
    "    </td>\n",
    "  </tr>\n",
    "</table>\n",
    "\n",
    "> If you have any questions, ideas, or feedback about this notebook, feel free to reach out. I’d love to connect!\n",
    "\n",
    "---\n",
    "\n",
    "## 📝 Project Overview\n",
    "\n",
    "This project involves analyzing a movie dataset named `Netflix_movie_data.csv`, which contains data such as genres, vote averages, popularity, and release dates of various movies available on streaming platforms like Netflix.\n",
    "\n",
    "We aim to clean and transform this data into meaningful visualizations and insights.\n",
    "\n",
    "---\n",
    "\n",
    "## 🔧 What We Did\n",
    "\n",
    "- **Loaded the dataset** using pandas and explored its structure.\n",
    "- **Observed and fixed issues** like:\n",
    "  - Null values\n",
    "  - Irrelevant columns\n",
    "  - Wrong data types\n",
    "- **Processed the data** by:\n",
    "  - Extracting year from release date\n",
    "  - Categorizing vote averages (Not Good → Very Good)\n",
    "  - Splitting multiple genres into separate rows for accurate analysis\n",
    "- **Visualized** the data using Seaborn and Matplotlib to answer:\n",
    "  - What are the most frequent genres?\n",
    "  - What genres got the highest vote average?\n",
    "  - Which movies are most and least popular?\n",
    "  - Which year had the most releases?\n",
    "\n",
    "---\n",
    "\n",
    "Let’s dive in! 🚀\n"
   ]
  },
  {
   "cell_type": "code",
   "execution_count": null,
   "id": "aa15f4c9-5a12-4ec0-8863-fa5d91e7d7d7",
   "metadata": {},
   "outputs": [],
   "source": []
  },
  {
   "cell_type": "markdown",
   "id": "99a3b980-c30d-4c91-94bb-742b4aa8d192",
   "metadata": {},
   "source": [
    "First, We import essential libraries like Pandas and NumPy for data handling, and Matplotlib and Seaborn for visualization."
   ]
  },
  {
   "cell_type": "code",
   "execution_count": 1,
   "id": "34e6a713-7912-472e-9d4c-0381a973f703",
   "metadata": {},
   "outputs": [],
   "source": [
    "import pandas as pd\n",
    "import numpy as np\n",
    "import matplotlib.pyplot as plt\n",
    "import seaborn as sns"
   ]
  },
  {
   "cell_type": "markdown",
   "id": "49e7caee-f63d-4720-b991-1348f0e4010c",
   "metadata": {},
   "source": [
    "We load the dataset into a Pandas DataFrame from a CSV file named mymoviedb.csv."
   ]
  },
  {
   "cell_type": "code",
   "execution_count": 2,
   "id": "ebc65f2c-3c06-49fa-887a-fe48de1655a4",
   "metadata": {},
   "outputs": [],
   "source": [
    "# loading the data into a dataframe\n",
    "data_set=pd.read_csv('mymoviedb.csv',engine='python')"
   ]
  },
  {
   "cell_type": "code",
   "execution_count": 4,
   "id": "f214bfed-e5b2-4c3d-af0a-eacd8d820659",
   "metadata": {},
   "outputs": [
    {
     "name": "stdout",
     "output_type": "stream",
     "text": [
      "  Release_Date                    Title  \\\n",
      "0   2021-12-15  Spider-Man: No Way Home   \n",
      "1   2022-03-01               The Batman   \n",
      "2   2022-02-25                  No Exit   \n",
      "3   2021-11-24                  Encanto   \n",
      "4   2021-12-22           The King's Man   \n",
      "5   2022-01-07             The Commando   \n",
      "6   2022-01-12                   Scream   \n",
      "7   2022-02-10                     Kimi   \n",
      "8   2022-02-17     Fistful of Vengeance   \n",
      "9   2021-11-03                 Eternals   \n",
      "\n",
      "                                            Overview  Popularity Vote_Count  \\\n",
      "0  Peter Parker is unmasked and no longer able to...    5083.954       8940   \n",
      "1  In his second year of fighting crime, Batman u...    3827.658       1151   \n",
      "2  Stranded at a rest stop in the mountains durin...    2618.087        122   \n",
      "3  The tale of an extraordinary family, the Madri...    2402.201       5076   \n",
      "4  As a collection of history's worst tyrants and...    1895.511       1793   \n",
      "5  An elite DEA agent returns home after a failed...    1750.484         33   \n",
      "6  Twenty-five years after a streak of brutal mur...    1675.161        821   \n",
      "7  A tech worker with agoraphobia discovers recor...    1601.782        206   \n",
      "8  A revenge mission becomes a fight to save the ...    1594.013        114   \n",
      "9  The Eternals are a team of ancient aliens who ...    1537.406       4726   \n",
      "\n",
      "  Vote_Average Original_Language                               Genre  \\\n",
      "0          8.3                en  Action, Adventure, Science Fiction   \n",
      "1          8.1                en            Crime, Mystery, Thriller   \n",
      "2          6.3                en                            Thriller   \n",
      "3          7.7                en  Animation, Comedy, Family, Fantasy   \n",
      "4          7.0                en    Action, Adventure, Thriller, War   \n",
      "5          6.6                en             Action, Crime, Thriller   \n",
      "6          6.8                en           Horror, Mystery, Thriller   \n",
      "7          6.3                en                            Thriller   \n",
      "8          5.3                en              Action, Crime, Fantasy   \n",
      "9          7.2                en                     Science Fiction   \n",
      "\n",
      "                                          Poster_Url  \n",
      "0  https://image.tmdb.org/t/p/original/1g0dhYtq4i...  \n",
      "1  https://image.tmdb.org/t/p/original/74xTEgt7R3...  \n",
      "2  https://image.tmdb.org/t/p/original/vDHsLnOWKl...  \n",
      "3  https://image.tmdb.org/t/p/original/4j0PNHkMr5...  \n",
      "4  https://image.tmdb.org/t/p/original/aq4Pwv5Xeu...  \n",
      "5  https://image.tmdb.org/t/p/original/pSh8MyYu5C...  \n",
      "6  https://image.tmdb.org/t/p/original/kZNHR1upJK...  \n",
      "7  https://image.tmdb.org/t/p/original/okNgwtxIWz...  \n",
      "8  https://image.tmdb.org/t/p/original/3cccEF9QZg...  \n",
      "9  https://image.tmdb.org/t/p/original/zByhtBvX99...  \n"
     ]
    }
   ],
   "source": [
    " print(data_set.head(10))"
   ]
  },
  {
   "cell_type": "code",
   "execution_count": 5,
   "id": "27d91d42-8dfb-44df-9a03-cb5744e398d7",
   "metadata": {},
   "outputs": [
    {
     "name": "stdout",
     "output_type": "stream",
     "text": [
      "Index(['Release_Date', 'Title', 'Overview', 'Popularity', 'Vote_Count',\n",
      "       'Vote_Average', 'Original_Language', 'Genre', 'Poster_Url'],\n",
      "      dtype='object')\n"
     ]
    }
   ],
   "source": [
    " print(data_set.columns)"
   ]
  },
  {
   "cell_type": "code",
   "execution_count": 6,
   "id": "83588bfd-7ade-45ad-ac3c-32a4af96b8a0",
   "metadata": {},
   "outputs": [
    {
     "name": "stdout",
     "output_type": "stream",
     "text": [
      "<class 'pandas.core.frame.DataFrame'>\n",
      "RangeIndex: 9837 entries, 0 to 9836\n",
      "Data columns (total 9 columns):\n",
      " #   Column             Non-Null Count  Dtype  \n",
      "---  ------             --------------  -----  \n",
      " 0   Release_Date       9837 non-null   object \n",
      " 1   Title              9828 non-null   object \n",
      " 2   Overview           9828 non-null   object \n",
      " 3   Popularity         9827 non-null   float64\n",
      " 4   Vote_Count         9827 non-null   object \n",
      " 5   Vote_Average       9827 non-null   object \n",
      " 6   Original_Language  9827 non-null   object \n",
      " 7   Genre              9826 non-null   object \n",
      " 8   Poster_Url         9826 non-null   object \n",
      "dtypes: float64(1), object(8)\n",
      "memory usage: 691.8+ KB\n",
      "None\n"
     ]
    }
   ],
   "source": [
    "print(data_set.info())"
   ]
  },
  {
   "cell_type": "code",
   "execution_count": 7,
   "id": "81b6c2a8-01fd-4d2e-9723-3a1215177251",
   "metadata": {
    "scrolled": true
   },
   "outputs": [
    {
     "name": "stdout",
     "output_type": "stream",
     "text": [
      "0\n"
     ]
    }
   ],
   "source": [
    "print(data_set.duplicated().sum())"
   ]
  },
  {
   "cell_type": "code",
   "execution_count": 8,
   "id": "2cfcfcd7-2aa7-4312-9376-27e3c57248d5",
   "metadata": {},
   "outputs": [
    {
     "name": "stdout",
     "output_type": "stream",
     "text": [
      "        Popularity\n",
      "count  9827.000000\n",
      "mean     40.320570\n",
      "std     108.874308\n",
      "min       7.100000\n",
      "25%      16.127500\n",
      "50%      21.191000\n",
      "75%      35.174500\n",
      "max    5083.954000\n"
     ]
    }
   ],
   "source": [
    "print(data_set.describe())"
   ]
  },
  {
   "cell_type": "markdown",
   "id": "e1a31a72-0195-4f70-acf6-05d4abcaf08e",
   "metadata": {},
   "source": [
    "Initial Observations\n",
    "\n",
    "We observed the dataset has null values, inappropriate data types, and unnecessary columns for our analysis.\n",
    "\n",
    "We planned to clean the data by removing nulls, fixing data types, and removing irrelevant columns."
   ]
  },
  {
   "cell_type": "code",
   "execution_count": 9,
   "id": "d40a121b-867f-4caf-aee2-99832c8993a5",
   "metadata": {},
   "outputs": [],
   "source": [
    "data_set.dropna(inplace=True)"
   ]
  },
  {
   "cell_type": "code",
   "execution_count": 10,
   "id": "3a705621-1207-46fd-88f9-61954b3135b3",
   "metadata": {},
   "outputs": [],
   "source": [
    "data_set.drop([\"Overview\",\"Original_Language\",\"Poster_Url\"],axis=1,inplace=True)"
   ]
  },
  {
   "cell_type": "code",
   "execution_count": 12,
   "id": "cfbe6323-d9f3-4d87-923a-d6748cb9379c",
   "metadata": {},
   "outputs": [
    {
     "name": "stdout",
     "output_type": "stream",
     "text": [
      "<class 'pandas.core.frame.DataFrame'>\n",
      "Index: 9826 entries, 0 to 9836\n",
      "Data columns (total 6 columns):\n",
      " #   Column        Non-Null Count  Dtype  \n",
      "---  ------        --------------  -----  \n",
      " 0   Release_Date  9826 non-null   object \n",
      " 1   Title         9826 non-null   object \n",
      " 2   Popularity    9826 non-null   float64\n",
      " 3   Vote_Count    9826 non-null   object \n",
      " 4   Vote_Average  9826 non-null   object \n",
      " 5   Genre         9826 non-null   object \n",
      "dtypes: float64(1), object(5)\n",
      "memory usage: 537.4+ KB\n",
      "None\n"
     ]
    }
   ],
   "source": [
    " print(data_set.info())"
   ]
  },
  {
   "cell_type": "markdown",
   "id": "02154bea-aeea-407a-a197-a025feee2634",
   "metadata": {},
   "source": [
    "We dropped all rows containing null values and removed the columns that are not useful for our analysis: Overview, Original_Language, and Poster_Url."
   ]
  },
  {
   "cell_type": "code",
   "execution_count": 18,
   "id": "2c785583-d706-4dde-b5ad-7f2f81b673fa",
   "metadata": {},
   "outputs": [
    {
     "name": "stdout",
     "output_type": "stream",
     "text": [
      "int64\n"
     ]
    }
   ],
   "source": [
    "# datatypes issue\n",
    "\n",
    "data_set['Vote_Count'] =data_set['Vote_Count'].astype(int)\n",
    "print(data_set['Vote_Count'].dtype)"
   ]
  },
  {
   "cell_type": "code",
   "execution_count": 17,
   "id": "292f6518-9cab-4ade-8b23-e91fe117942e",
   "metadata": {},
   "outputs": [
    {
     "name": "stdout",
     "output_type": "stream",
     "text": [
      "float64\n"
     ]
    }
   ],
   "source": [
    "data_set['Vote_Average'] = data_set['Vote_Average'].astype(float)\n",
    "print(data_set['Vote_Average'].dtype)"
   ]
  },
  {
   "cell_type": "code",
   "execution_count": 15,
   "id": "5aa55c73-2825-4f36-990c-c62abe69782c",
   "metadata": {},
   "outputs": [
    {
     "name": "stdout",
     "output_type": "stream",
     "text": [
      "datetime64[ns]\n"
     ]
    }
   ],
   "source": [
    "data_set['Release_Date'] = pd.to_datetime(data_set['Release_Date'])\n",
    "print(data_set['Release_Date'].dtype)"
   ]
  },
  {
   "cell_type": "markdown",
   "id": "ba222deb-ca1c-4078-8865-d4983c4a53b4",
   "metadata": {},
   "source": [
    "We corrected the data types:\n",
    "\n",
    "Vote_Count as integer\n",
    "\n",
    "Vote_Average as float\n",
    "\n",
    "Release_Date as datetime"
   ]
  },
  {
   "cell_type": "code",
   "execution_count": 19,
   "id": "de999638-7330-49bc-9594-a0717dd635a0",
   "metadata": {},
   "outputs": [
    {
     "name": "stdout",
     "output_type": "stream",
     "text": [
      "int32\n"
     ]
    }
   ],
   "source": [
    "data_set['Release_Date'] = data_set['Release_Date'].dt.year\n",
    "print(data_set['Release_Date'].dtype)"
   ]
  },
  {
   "cell_type": "markdown",
   "id": "b79efe79-dde6-45e5-acc2-71193f1a80b4",
   "metadata": {},
   "source": [
    "Since we only need the year of release for analysis, we extracted the year from the full date."
   ]
  },
  {
   "cell_type": "code",
   "execution_count": 20,
   "id": "e8cab940-13ad-4fd4-a04a-d6ec73d73f00",
   "metadata": {},
   "outputs": [],
   "source": [
    "# next we categorize the vote_average column into 4 categories\n",
    "def categorize_col(df,col,labels):\n",
    "    boundaries=[df[col].describe()['min'],\n",
    "                df[col].describe()['25%'],\n",
    "                df[col].describe()['50%'],\n",
    "                df[col].describe()['75%'],\n",
    "                df[col].describe()['max']]\n",
    "    df[col] = pd.cut(df[col],boundaries,labels=labels,duplicates='drop')\n",
    "    return df"
   ]
  },
  {
   "cell_type": "code",
   "execution_count": 21,
   "id": "40dbf438-4c72-4989-ae64-8204dadfbcd4",
   "metadata": {},
   "outputs": [
    {
     "data": {
      "text/html": [
       "<div>\n",
       "<style scoped>\n",
       "    .dataframe tbody tr th:only-of-type {\n",
       "        vertical-align: middle;\n",
       "    }\n",
       "\n",
       "    .dataframe tbody tr th {\n",
       "        vertical-align: top;\n",
       "    }\n",
       "\n",
       "    .dataframe thead th {\n",
       "        text-align: right;\n",
       "    }\n",
       "</style>\n",
       "<table border=\"1\" class=\"dataframe\">\n",
       "  <thead>\n",
       "    <tr style=\"text-align: right;\">\n",
       "      <th></th>\n",
       "      <th>Release_Date</th>\n",
       "      <th>Title</th>\n",
       "      <th>Popularity</th>\n",
       "      <th>Vote_Count</th>\n",
       "      <th>Vote_Average</th>\n",
       "      <th>Genre</th>\n",
       "    </tr>\n",
       "  </thead>\n",
       "  <tbody>\n",
       "    <tr>\n",
       "      <th>0</th>\n",
       "      <td>2021</td>\n",
       "      <td>Spider-Man: No Way Home</td>\n",
       "      <td>5083.954</td>\n",
       "      <td>8940</td>\n",
       "      <td>Very_Good</td>\n",
       "      <td>Action, Adventure, Science Fiction</td>\n",
       "    </tr>\n",
       "    <tr>\n",
       "      <th>1</th>\n",
       "      <td>2022</td>\n",
       "      <td>The Batman</td>\n",
       "      <td>3827.658</td>\n",
       "      <td>1151</td>\n",
       "      <td>Very_Good</td>\n",
       "      <td>Crime, Mystery, Thriller</td>\n",
       "    </tr>\n",
       "    <tr>\n",
       "      <th>2</th>\n",
       "      <td>2022</td>\n",
       "      <td>No Exit</td>\n",
       "      <td>2618.087</td>\n",
       "      <td>122</td>\n",
       "      <td>Average</td>\n",
       "      <td>Thriller</td>\n",
       "    </tr>\n",
       "    <tr>\n",
       "      <th>3</th>\n",
       "      <td>2021</td>\n",
       "      <td>Encanto</td>\n",
       "      <td>2402.201</td>\n",
       "      <td>5076</td>\n",
       "      <td>Very_Good</td>\n",
       "      <td>Animation, Comedy, Family, Fantasy</td>\n",
       "    </tr>\n",
       "    <tr>\n",
       "      <th>4</th>\n",
       "      <td>2021</td>\n",
       "      <td>The King's Man</td>\n",
       "      <td>1895.511</td>\n",
       "      <td>1793</td>\n",
       "      <td>Good</td>\n",
       "      <td>Action, Adventure, Thriller, War</td>\n",
       "    </tr>\n",
       "    <tr>\n",
       "      <th>...</th>\n",
       "      <td>...</td>\n",
       "      <td>...</td>\n",
       "      <td>...</td>\n",
       "      <td>...</td>\n",
       "      <td>...</td>\n",
       "      <td>...</td>\n",
       "    </tr>\n",
       "    <tr>\n",
       "      <th>9832</th>\n",
       "      <td>1973</td>\n",
       "      <td>Badlands</td>\n",
       "      <td>13.357</td>\n",
       "      <td>896</td>\n",
       "      <td>Very_Good</td>\n",
       "      <td>Drama, Crime</td>\n",
       "    </tr>\n",
       "    <tr>\n",
       "      <th>9833</th>\n",
       "      <td>2020</td>\n",
       "      <td>Violent Delights</td>\n",
       "      <td>13.356</td>\n",
       "      <td>8</td>\n",
       "      <td>Not_good</td>\n",
       "      <td>Horror</td>\n",
       "    </tr>\n",
       "    <tr>\n",
       "      <th>9834</th>\n",
       "      <td>2016</td>\n",
       "      <td>The Offering</td>\n",
       "      <td>13.355</td>\n",
       "      <td>94</td>\n",
       "      <td>Not_good</td>\n",
       "      <td>Mystery, Thriller, Horror</td>\n",
       "    </tr>\n",
       "    <tr>\n",
       "      <th>9835</th>\n",
       "      <td>2021</td>\n",
       "      <td>The United States vs. Billie Holiday</td>\n",
       "      <td>13.354</td>\n",
       "      <td>152</td>\n",
       "      <td>Good</td>\n",
       "      <td>Music, Drama, History</td>\n",
       "    </tr>\n",
       "    <tr>\n",
       "      <th>9836</th>\n",
       "      <td>1984</td>\n",
       "      <td>Threads</td>\n",
       "      <td>13.354</td>\n",
       "      <td>186</td>\n",
       "      <td>Very_Good</td>\n",
       "      <td>War, Drama, Science Fiction</td>\n",
       "    </tr>\n",
       "  </tbody>\n",
       "</table>\n",
       "<p>9826 rows × 6 columns</p>\n",
       "</div>"
      ],
      "text/plain": [
       "      Release_Date                                 Title  Popularity  \\\n",
       "0             2021               Spider-Man: No Way Home    5083.954   \n",
       "1             2022                            The Batman    3827.658   \n",
       "2             2022                               No Exit    2618.087   \n",
       "3             2021                               Encanto    2402.201   \n",
       "4             2021                        The King's Man    1895.511   \n",
       "...            ...                                   ...         ...   \n",
       "9832          1973                              Badlands      13.357   \n",
       "9833          2020                      Violent Delights      13.356   \n",
       "9834          2016                          The Offering      13.355   \n",
       "9835          2021  The United States vs. Billie Holiday      13.354   \n",
       "9836          1984                               Threads      13.354   \n",
       "\n",
       "      Vote_Count Vote_Average                               Genre  \n",
       "0           8940    Very_Good  Action, Adventure, Science Fiction  \n",
       "1           1151    Very_Good            Crime, Mystery, Thriller  \n",
       "2            122      Average                            Thriller  \n",
       "3           5076    Very_Good  Animation, Comedy, Family, Fantasy  \n",
       "4           1793         Good    Action, Adventure, Thriller, War  \n",
       "...          ...          ...                                 ...  \n",
       "9832         896    Very_Good                        Drama, Crime  \n",
       "9833           8     Not_good                              Horror  \n",
       "9834          94     Not_good           Mystery, Thriller, Horror  \n",
       "9835         152         Good               Music, Drama, History  \n",
       "9836         186    Very_Good         War, Drama, Science Fiction  \n",
       "\n",
       "[9826 rows x 6 columns]"
      ]
     },
     "execution_count": 21,
     "metadata": {},
     "output_type": "execute_result"
    }
   ],
   "source": [
    "labels=['Not_good','Average','Good','Very_Good']\n",
    "categorize_col(data_set,'Vote_Average',labels)"
   ]
  },
  {
   "cell_type": "code",
   "execution_count": 22,
   "id": "8d5804c9-dceb-423a-a936-80d357d1118f",
   "metadata": {},
   "outputs": [
    {
     "name": "stdout",
     "output_type": "stream",
     "text": [
      "['Very_Good', 'Average', 'Good', 'Not_good', NaN]\n",
      "Categories (4, object): ['Not_good' < 'Average' < 'Good' < 'Very_Good']\n"
     ]
    }
   ],
   "source": [
    "print(data_set['Vote_Average'].unique())"
   ]
  },
  {
   "cell_type": "code",
   "execution_count": 23,
   "id": "743e8cb6-8fe8-4bec-8c2e-2fcfe1509701",
   "metadata": {},
   "outputs": [
    {
     "name": "stdout",
     "output_type": "stream",
     "text": [
      "   Release_Date                    Title  Popularity  Vote_Count Vote_Average  \\\n",
      "0          2021  Spider-Man: No Way Home    5083.954        8940    Very_Good   \n",
      "1          2022               The Batman    3827.658        1151    Very_Good   \n",
      "2          2022                  No Exit    2618.087         122      Average   \n",
      "3          2021                  Encanto    2402.201        5076    Very_Good   \n",
      "4          2021           The King's Man    1895.511        1793         Good   \n",
      "\n",
      "                                Genre  \n",
      "0  Action, Adventure, Science Fiction  \n",
      "1            Crime, Mystery, Thriller  \n",
      "2                            Thriller  \n",
      "3  Animation, Comedy, Family, Fantasy  \n",
      "4    Action, Adventure, Thriller, War  \n"
     ]
    }
   ],
   "source": [
    "print(data_set.head())"
   ]
  },
  {
   "cell_type": "code",
   "execution_count": 24,
   "id": "55e25123-1ba1-4a0a-bdf0-f6d6be3e24a9",
   "metadata": {},
   "outputs": [
    {
     "name": "stdout",
     "output_type": "stream",
     "text": [
      "Vote_Average\n",
      "Not_good     2467\n",
      "Very_Good    2450\n",
      "Good         2411\n",
      "Average      2398\n",
      "Name: count, dtype: int64\n"
     ]
    }
   ],
   "source": [
    "print(data_set['Vote_Average'].value_counts())"
   ]
  },
  {
   "cell_type": "markdown",
   "id": "fbe0dc35-1423-4b04-b8c1-7d347a6f27a8",
   "metadata": {},
   "source": [
    "We categorized the Vote_Average column into four buckets: Not_good, Average, Good, Very_Good, based on quantile values. This helps us analyze the distribution of quality ratings better."
   ]
  },
  {
   "cell_type": "code",
   "execution_count": 25,
   "id": "193d0737-f83b-4834-81da-455658329014",
   "metadata": {},
   "outputs": [],
   "source": [
    "data_set['Genre'] =data_set['Genre'].str.split(', ')\n",
    "data_set=data_set.explode('Genre').reset_index(drop=True)"
   ]
  },
  {
   "cell_type": "code",
   "execution_count": 26,
   "id": "c654618d-754d-4ff6-be88-c7b2e9761250",
   "metadata": {},
   "outputs": [
    {
     "name": "stdout",
     "output_type": "stream",
     "text": [
      "   Release_Date                    Title  Popularity  Vote_Count Vote_Average  \\\n",
      "0          2021  Spider-Man: No Way Home    5083.954        8940    Very_Good   \n",
      "1          2021  Spider-Man: No Way Home    5083.954        8940    Very_Good   \n",
      "2          2021  Spider-Man: No Way Home    5083.954        8940    Very_Good   \n",
      "3          2022               The Batman    3827.658        1151    Very_Good   \n",
      "4          2022               The Batman    3827.658        1151    Very_Good   \n",
      "\n",
      "             Genre  \n",
      "0           Action  \n",
      "1        Adventure  \n",
      "2  Science Fiction  \n",
      "3            Crime  \n",
      "4          Mystery  \n"
     ]
    }
   ],
   "source": [
    "print(data_set.head())"
   ]
  },
  {
   "cell_type": "code",
   "execution_count": 27,
   "id": "f3d2dfd6-5b4f-44c2-ad5b-d8761f3a5c2e",
   "metadata": {
    "collapsed": true,
    "jupyter": {
     "outputs_hidden": true
    }
   },
   "outputs": [
    {
     "name": "stdout",
     "output_type": "stream",
     "text": [
      "<bound method DataFrame.info of        Release_Date                                 Title  Popularity  \\\n",
      "0              2021               Spider-Man: No Way Home    5083.954   \n",
      "1              2021               Spider-Man: No Way Home    5083.954   \n",
      "2              2021               Spider-Man: No Way Home    5083.954   \n",
      "3              2022                            The Batman    3827.658   \n",
      "4              2022                            The Batman    3827.658   \n",
      "...             ...                                   ...         ...   \n",
      "25787          2021  The United States vs. Billie Holiday      13.354   \n",
      "25788          2021  The United States vs. Billie Holiday      13.354   \n",
      "25789          1984                               Threads      13.354   \n",
      "25790          1984                               Threads      13.354   \n",
      "25791          1984                               Threads      13.354   \n",
      "\n",
      "       Vote_Count Vote_Average            Genre  \n",
      "0            8940    Very_Good           Action  \n",
      "1            8940    Very_Good        Adventure  \n",
      "2            8940    Very_Good  Science Fiction  \n",
      "3            1151    Very_Good            Crime  \n",
      "4            1151    Very_Good          Mystery  \n",
      "...           ...          ...              ...  \n",
      "25787         152         Good            Drama  \n",
      "25788         152         Good          History  \n",
      "25789         186    Very_Good              War  \n",
      "25790         186    Very_Good            Drama  \n",
      "25791         186    Very_Good  Science Fiction  \n",
      "\n",
      "[25792 rows x 6 columns]>\n"
     ]
    }
   ],
   "source": [
    "print(data_set.info)"
   ]
  },
  {
   "cell_type": "code",
   "execution_count": 28,
   "id": "4a70af87-62c3-49eb-b124-d9e5f4a49dc7",
   "metadata": {
    "collapsed": true,
    "jupyter": {
     "outputs_hidden": true
    }
   },
   "outputs": [
    {
     "name": "stdout",
     "output_type": "stream",
     "text": [
      "<bound method DataFrame.nunique of        Release_Date                                 Title  Popularity  \\\n",
      "0              2021               Spider-Man: No Way Home    5083.954   \n",
      "1              2021               Spider-Man: No Way Home    5083.954   \n",
      "2              2021               Spider-Man: No Way Home    5083.954   \n",
      "3              2022                            The Batman    3827.658   \n",
      "4              2022                            The Batman    3827.658   \n",
      "...             ...                                   ...         ...   \n",
      "25787          2021  The United States vs. Billie Holiday      13.354   \n",
      "25788          2021  The United States vs. Billie Holiday      13.354   \n",
      "25789          1984                               Threads      13.354   \n",
      "25790          1984                               Threads      13.354   \n",
      "25791          1984                               Threads      13.354   \n",
      "\n",
      "       Vote_Count Vote_Average            Genre  \n",
      "0            8940    Very_Good           Action  \n",
      "1            8940    Very_Good        Adventure  \n",
      "2            8940    Very_Good  Science Fiction  \n",
      "3            1151    Very_Good            Crime  \n",
      "4            1151    Very_Good          Mystery  \n",
      "...           ...          ...              ...  \n",
      "25787         152         Good            Drama  \n",
      "25788         152         Good          History  \n",
      "25789         186    Very_Good              War  \n",
      "25790         186    Very_Good            Drama  \n",
      "25791         186    Very_Good  Science Fiction  \n",
      "\n",
      "[25792 rows x 6 columns]>\n"
     ]
    }
   ],
   "source": [
    "print(data_set.nunique)"
   ]
  },
  {
   "cell_type": "markdown",
   "id": "fbdce5ab-bd48-48ab-84e3-b0c4a6c30cbc",
   "metadata": {},
   "source": [
    "We split multiple genres in a single row into separate rows using explode. This enables one genre per row, which is important for accurate analysis."
   ]
  },
  {
   "cell_type": "code",
   "execution_count": 29,
   "id": "5e003abd-5d6b-4d53-8109-9b3c4eea140f",
   "metadata": {
    "scrolled": true
   },
   "outputs": [
    {
     "data": {
      "image/png": "[encoded data removed]",
      "text/plain": [
       "<Figure size 1211.11x600 with 1 Axes>"
      ]
     },
     "metadata": {},
     "output_type": "display_data"
    }
   ],
   "source": [
    "\n",
    "# now solving quesions by visualising data\n",
    "\n",
    "# 1. What is the most frequent genre of movies released on netflix?\n",
    "\n",
    "data_set['Genre'].describe()\n",
    "\n",
    "sns.set_style(\"whitegrid\")\n",
    "sns.catplot(y='Genre', kind='count',\n",
    "             data=data_set, height=6, aspect=2,color='yellow',order=data_set['Genre'].value_counts().index)\n",
    "plt.title('Most Frequent Genre of Movies Released on Netflix')\n",
    "plt.xlabel('Count')\n",
    "plt.ylabel('Genre')\n",
    "plt.show()"
   ]
  },
  {
   "cell_type": "markdown",
   "id": "fea2e88f-e9b8-4381-95bf-a9f10a4b883e",
   "metadata": {},
   "source": [
    "This plot shows the most common genres among movies in our dataset."
   ]
  },
  {
   "cell_type": "code",
   "execution_count": 36,
   "id": "2f365a37-8d3b-4400-8d1c-64f1f06b3b7d",
   "metadata": {},
   "outputs": [
    {
     "data": {
      "image/png": "[encoded data removed]",
      "text/plain": [
       "<Figure size 1211.11x600 with 1 Axes>"
      ]
     },
     "metadata": {},
     "output_type": "display_data"
    }
   ],
   "source": [
    "# 2. What genres has highest Votes IN VOTE AVG COLUMN ?\n",
    "sns.catplot(y='Vote_Average', kind='count',\n",
    "             data=data_set, height=6, aspect=2, color='skyblue', order=data_set['Vote_Average'].value_counts().index)\n",
    "plt.title('Votes Distribution')\n",
    "\n",
    "plt.show()\n"
   ]
  },
  {
   "cell_type": "markdown",
   "id": "ed516897-379c-4539-b585-48735079bc8b",
   "metadata": {},
   "source": [
    "This chart visualizes how movies are distributed based on their vote average category: from Not Good to Very Good."
   ]
  },
  {
   "cell_type": "code",
   "execution_count": 32,
   "id": "d8ead1ac-507a-4870-916d-76f194b45cf8",
   "metadata": {},
   "outputs": [
    {
     "name": "stdout",
     "output_type": "stream",
     "text": [
      "   Release_Date                    Title  Popularity  Vote_Count Vote_Average  \\\n",
      "0          2021  Spider-Man: No Way Home    5083.954        8940    Very_Good   \n",
      "1          2021  Spider-Man: No Way Home    5083.954        8940    Very_Good   \n",
      "2          2021  Spider-Man: No Way Home    5083.954        8940    Very_Good   \n",
      "\n",
      "             Genre  \n",
      "0           Action  \n",
      "1        Adventure  \n",
      "2  Science Fiction  \n"
     ]
    }
   ],
   "source": [
    "# 3. What movie got the highest Popularity?What is it's genre?\n",
    "print(data_set[data_set['Popularity'] == data_set['Popularity'].max()])"
   ]
  },
  {
   "cell_type": "markdown",
   "id": "94a86f2f-9dfa-4798-86d0-c57b7dfe3b49",
   "metadata": {},
   "source": [
    "We find the movie that has highest popularity in the dataset."
   ]
  },
  {
   "cell_type": "code",
   "execution_count": 33,
   "id": "677d9226-a1d0-44bc-ad9e-1d02a9fad756",
   "metadata": {},
   "outputs": [
    {
     "name": "stdout",
     "output_type": "stream",
     "text": [
      "       Release_Date                                 Title  Popularity  \\\n",
      "25786          2021  The United States vs. Billie Holiday      13.354   \n",
      "25787          2021  The United States vs. Billie Holiday      13.354   \n",
      "25788          2021  The United States vs. Billie Holiday      13.354   \n",
      "25789          1984                               Threads      13.354   \n",
      "25790          1984                               Threads      13.354   \n",
      "25791          1984                               Threads      13.354   \n",
      "\n",
      "       Vote_Count Vote_Average            Genre  \n",
      "25786         152         Good            Music  \n",
      "25787         152         Good            Drama  \n",
      "25788         152         Good          History  \n",
      "25789         186    Very_Good              War  \n",
      "25790         186    Very_Good            Drama  \n",
      "25791         186    Very_Good  Science Fiction  \n"
     ]
    }
   ],
   "source": [
    "# 4. What movie got the Lowest Popularity?What is it's genre?\n",
    "print(data_set[data_set['Popularity'] == data_set['Popularity'].min()])"
   ]
  },
  {
   "cell_type": "markdown",
   "id": "082f248d-ea5d-48f9-a84f-badc16df7d34",
   "metadata": {},
   "source": [
    "We find the movie that has lowest popularity in the dataset."
   ]
  },
  {
   "cell_type": "code",
   "execution_count": 35,
   "id": "6e7e2dd3-f591-4fa4-869c-b0a76f7858cf",
   "metadata": {},
   "outputs": [
    {
     "data": {
      "image/png": "[encoded data removed]",
      "text/plain": [
       "<Figure size 640x480 with 1 Axes>"
      ]
     },
     "metadata": {},
     "output_type": "display_data"
    }
   ],
   "source": [
    "# 5. Which year has the most filmmed movies?\n",
    "data_set['Release_Date'].hist(color='red')\n",
    "plt.title('Distribution of Movies by Release Year')\n",
    "plt.xlabel('Year')\n",
    "plt.ylabel('Number of Movies')\n",
    "plt.show()"
   ]
  },
  {
   "cell_type": "markdown",
   "id": "a7472944-8270-490a-a173-3e9b5965775f",
   "metadata": {},
   "source": [
    "This histogram helps us identify the year(s) when maximum movies were released."
   ]
  },
  {
   "cell_type": "code",
   "execution_count": null,
   "id": "5a114f63-78cc-4130-a2df-0243c028bae8",
   "metadata": {},
   "outputs": [],
   "source": [
    "---\n",
    "\n",
    "## ✅ Conclusion\n",
    "\n",
    "Through this project, I was able to practice real-world data cleaning, transformation, categorization, and visualization using Python. I learned how to:\n",
    "\n",
    "- Handle missing values and fix data types\n",
    "- Perform feature engineering like genre splitting and vote categorization\n",
    "- Use Seaborn and Matplotlib to gain meaningful insights from raw data\n",
    "\n",
    "This project not only sharpened my technical skills but also improved my ability to **draw conclusions from visual data** and tell a compelling story.\n",
    "\n",
    "---\n",
    "\n",
    "## 💬 Final Thoughts\n",
    "\n",
    "As a student passionate about **data science**, this project was a valuable step in my learning journey. I enjoyed every part of it \n",
    "from tackling raw data issues to finally answering real questions through visualization.\n",
    "\n",
    "If you're someone exploring data or have any feedback/suggestions about this notebook, please feel free to reach out!\n",
    "\n",
    "---\n",
    "\n",
    "## 📬 Let’s Connect\n",
    "\n",
    "- 🔗 [LinkedIn](https://www.linkedin.com/in/chandu-gummadavelly-524830330)\n",
    "- 💻 [GitHub](https://github.com/Chandu-gummadavelly)\n",
    "*\n",
    "\n",
    "Thanks for reading! 😊\n",
    "\n"
   ]
  }
 ],
 "metadata": {
  "kernelspec": {
   "display_name": "Python 3 (ipykernel)",
   "language": "python",
   "name": "python3"
  },
  "language_info": {
   "codemirror_mode": {
    "name": "ipython",
    "version": 3
   },
   "file_extension": ".py",
   "mimetype": "text/x-python",
   "name": "python",
   "nbconvert_exporter": "python",
   "pygments_lexer": "ipython3",
   "version": "3.13.0"
  }
 },
 "nbformat": 4,
 "nbformat_minor": 5
}
